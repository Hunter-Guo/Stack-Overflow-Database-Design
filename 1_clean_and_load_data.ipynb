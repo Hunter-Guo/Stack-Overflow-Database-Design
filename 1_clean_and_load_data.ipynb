{
 "cells": [
  {
   "cell_type": "code",
   "execution_count": 15,
   "id": "fb4bc233-efc8-412a-b8bd-8e334621fefc",
   "metadata": {
    "colab": {
     "base_uri": "https://localhost:8080/"
    },
    "executionInfo": {
     "elapsed": 3871,
     "status": "ok",
     "timestamp": 1733512266920,
     "user": {
      "displayName": "Kirthi Rao",
      "userId": "15458219604428900768"
     },
     "user_tz": 360
    },
    "id": "fb4bc233-efc8-412a-b8bd-8e334621fefc",
    "outputId": "785707ef-84b4-4c4d-9368-a3ea3197d3c3"
   },
   "outputs": [],
   "source": [
    "#!pip install pandas\n",
    "#!pip install pymysql\n",
    "#!pip install sqlalchemy pymysql"
   ]
  },
  {
   "cell_type": "code",
   "execution_count": 17,
   "id": "16c3e942-0852-4199-8146-b29602a825bb",
   "metadata": {
    "id": "16c3e942-0852-4199-8146-b29602a825bb"
   },
   "outputs": [],
   "source": [
    "import pandas as pd\n",
    "import pymysql\n",
    "from sqlalchemy import create_engine\n",
    "import sqlalchemy\n",
    "import numpy as np"
   ]
  },
  {
   "cell_type": "code",
   "execution_count": 19,
   "id": "43331534-c0a7-47a1-b4a2-577331d9b7c3",
   "metadata": {
    "id": "43331534-c0a7-47a1-b4a2-577331d9b7c3"
   },
   "outputs": [],
   "source": [
    "# Read in file\n",
    "data = pd.read_csv('survey_results_public.csv')"
   ]
  },
  {
   "cell_type": "code",
   "execution_count": 21,
   "id": "5f94e28a-1eda-4690-b02e-af30a27fe935",
   "metadata": {
    "colab": {
     "base_uri": "https://localhost:8080/",
     "height": 408
    },
    "executionInfo": {
     "elapsed": 146,
     "status": "error",
     "timestamp": 1733512669624,
     "user": {
      "displayName": "Kirthi Rao",
      "userId": "15458219604428900768"
     },
     "user_tz": 360
    },
    "id": "5f94e28a-1eda-4690-b02e-af30a27fe935",
    "outputId": "52c57003-e5f0-4f1b-c256-d44412b41f16"
   },
   "outputs": [],
   "source": [
    "try:\n",
    "    connection = pymysql.connect(host='localhost',\n",
    "                                 port=3306,\n",
    "                                 user='root',\n",
    "                                 password='rootroot')\n",
    "\n",
    "    # Create a cursor object\n",
    "    cursor = connection.cursor()\n",
    "\n",
    "    # Execute the CREATE DATABASE query\n",
    "    cursor.execute(\"CREATE DATABASE stackflow\")\n",
    "\n",
    "    # Commit the changes\n",
    "    connection.commit()\n",
    "\n",
    "except Exception as e:\n",
    "    print('Exception: ' + str(e))"
   ]
  },
  {
   "cell_type": "code",
   "execution_count": 23,
   "id": "68212948-c80e-454e-b3f0-cb540b2e0588",
   "metadata": {
    "id": "68212948-c80e-454e-b3f0-cb540b2e0588",
    "outputId": "9c10cc6e-6173-4cb9-86ab-598caa7c370e"
   },
   "outputs": [
    {
     "data": {
      "text/plain": [
       "65437"
      ]
     },
     "execution_count": 23,
     "metadata": {},
     "output_type": "execute_result"
    }
   ],
   "source": [
    "username = 'root'\n",
    "password = 'rootroot'\n",
    "host = 'localhost'\n",
    "port = 3306\n",
    "database = 'stackflow'\n",
    "connection_string = f'mysql+pymysql://{username}:{password}@{host}:{port}/{database}'\n",
    "\n",
    "# Create SQLAlchemy engine\n",
    "engine = create_engine(connection_string)\n",
    "\n",
    "table_name = 'so'\n",
    "data.to_sql(name=table_name, con=engine, if_exists='replace', index=False)"
   ]
  },
  {
   "cell_type": "code",
   "execution_count": 25,
   "id": "c2701ac1-710e-480a-bfd8-57a80259580f",
   "metadata": {
    "id": "c2701ac1-710e-480a-bfd8-57a80259580f",
    "outputId": "98d33f01-5c23-4f58-eac3-cb18a64643d5"
   },
   "outputs": [
    {
     "name": "stdout",
     "output_type": "stream",
     "text": [
      "The number of rows after cleaning: 43625\n"
     ]
    }
   ],
   "source": [
    "# Read the current table 'SO' from the database into a DataFrame\n",
    "df = pd.read_sql('SELECT * FROM so', con=engine)\n",
    "\n",
    "# Count the number of NULLs in each row\n",
    "df['null_count'] = df.isnull().sum(axis=1)\n",
    "\n",
    "# Sort the DataFrame by 'null_count' in descending order\n",
    "df_sorted = df.sort_values(by='null_count', ascending=False)\n",
    "\n",
    "# Calculate the number of rows to drop (top 1/3 rows with the most NULL values)\n",
    "num_rows_to_drop = len(df_sorted) // 3\n",
    "\n",
    "# Drop the rows with the most NULL values\n",
    "cleaned_df = df_sorted.iloc[num_rows_to_drop:]\n",
    "\n",
    "# Drop the 'null_count' column as it's no longer needed\n",
    "cleaned_df = cleaned_df.drop(columns=['null_count'])\n",
    "\n",
    "# Print the number of rows in the cleaned DataFrame\n",
    "print(f'The number of rows after cleaning: {len(cleaned_df)}')\n"
   ]
  },
  {
   "cell_type": "code",
   "execution_count": 27,
   "id": "71a80a29-6fa7-4e81-9211-ffb0da2b6f1f",
   "metadata": {
    "id": "71a80a29-6fa7-4e81-9211-ffb0da2b6f1f",
    "outputId": "98958ab7-89d0-4c39-f369-b92692492fb3"
   },
   "outputs": [
    {
     "name": "stdout",
     "output_type": "stream",
     "text": [
      "The number of rows after cleaning: 29084\n"
     ]
    }
   ],
   "source": [
    "# Count the number of NULLs in each row\n",
    "cleaned_df['null_count'] = cleaned_df.isnull().sum(axis=1)\n",
    "\n",
    "# Sort the DataFrame by 'null_count' in descending order\n",
    "df_sorted = cleaned_df.sort_values(by='null_count', ascending=False)\n",
    "\n",
    "# Calculate the number of rows to drop (top 1/3 rows with the most NULL values)\n",
    "num_rows_to_drop = len(df_sorted) // 3\n",
    "\n",
    "# Drop the rows with the most NULL values\n",
    "cleaned_df = df_sorted.iloc[num_rows_to_drop:]\n",
    "\n",
    "# Drop the 'null_count' column as it's no longer needed\n",
    "cleaned_df = cleaned_df.drop(columns=['null_count'])\n",
    "\n",
    "# Print the number of rows in the cleaned DataFrame\n",
    "print(f'The number of rows after cleaning: {len(cleaned_df)}')"
   ]
  },
  {
   "cell_type": "code",
   "execution_count": 29,
   "id": "d1e91e47-3271-4177-8c18-cd899cafaae5",
   "metadata": {
    "id": "d1e91e47-3271-4177-8c18-cd899cafaae5"
   },
   "outputs": [],
   "source": [
    "# Get the top 5 most frequent languages\n",
    "languages = ['Python', 'JavaScript', 'SQL', 'TypeScript', 'HTML/CSS']\n",
    "\n",
    "# Create dummy variables for the top 5 languages\n",
    "def create_language_columns(cleaned_df, languages):\n",
    "    for language in languages:\n",
    "        column_name = f'LanguageSkill_{language.replace(\"/\", \"\").replace(\" \", \"\")}'\n",
    "        cleaned_df[column_name] = cleaned_df['LanguageWantToWorkWith'].apply(lambda x: 1 if pd.notna(x) and language in x.split(';') else 0)\n",
    "    return cleaned_df\n",
    "\n",
    "cleaned_df = create_language_columns(cleaned_df, languages)\n"
   ]
  },
  {
   "cell_type": "code",
   "execution_count": 31,
   "id": "98ef5eb4-b20e-4ee0-89e6-c2fc317d0450",
   "metadata": {
    "id": "98ef5eb4-b20e-4ee0-89e6-c2fc317d0450"
   },
   "outputs": [],
   "source": [
    "# Get the top 5 most frequent databases\n",
    "databases = ['PostgreSQL', 'SQLite', 'Redis', 'MySQL', 'MongoDB']\n",
    "\n",
    "# Create dummy variables for the top 5 databases\n",
    "def create_database_columns(cleaned_df, databases):\n",
    "    for database in databases:\n",
    "        column_name = f'Database_{database.replace(\"/\", \"\").replace(\" \", \"\")}'\n",
    "        cleaned_df[column_name] = cleaned_df['DatabaseWantToWorkWith'].apply(lambda x: 1 if pd.notna(x) and database in x.split(';') else 0)\n",
    "    return cleaned_df\n",
    "\n",
    "cleaned_df = create_database_columns(cleaned_df, databases)"
   ]
  },
  {
   "cell_type": "code",
   "execution_count": 33,
   "id": "797f84d6-ff5f-41c9-a965-b5333d6bf944",
   "metadata": {
    "id": "797f84d6-ff5f-41c9-a965-b5333d6bf944",
    "outputId": "c4e5ff73-8c4b-4ff1-d2e3-bdfea8e45048"
   },
   "outputs": [
    {
     "data": {
      "text/html": [
       "<div>\n",
       "<style scoped>\n",
       "    .dataframe tbody tr th:only-of-type {\n",
       "        vertical-align: middle;\n",
       "    }\n",
       "\n",
       "    .dataframe tbody tr th {\n",
       "        vertical-align: top;\n",
       "    }\n",
       "\n",
       "    .dataframe thead th {\n",
       "        text-align: right;\n",
       "    }\n",
       "</style>\n",
       "<table border=\"1\" class=\"dataframe\">\n",
       "  <thead>\n",
       "    <tr style=\"text-align: right;\">\n",
       "      <th></th>\n",
       "      <th>ResponseId</th>\n",
       "      <th>MainBranch</th>\n",
       "      <th>Age</th>\n",
       "      <th>Employment</th>\n",
       "      <th>RemoteWork</th>\n",
       "      <th>Check</th>\n",
       "      <th>CodingActivities</th>\n",
       "      <th>EdLevel</th>\n",
       "      <th>LearnCode</th>\n",
       "      <th>LearnCodeOnline</th>\n",
       "      <th>...</th>\n",
       "      <th>Database_PostgreSQL</th>\n",
       "      <th>Database_SQLite</th>\n",
       "      <th>Database_Redis</th>\n",
       "      <th>Database_MySQL</th>\n",
       "      <th>Database_MongoDB</th>\n",
       "      <th>Platform_AmazonWebServicesAWS</th>\n",
       "      <th>Platform_MicrosoftAzure</th>\n",
       "      <th>Platform_GoogleCloud</th>\n",
       "      <th>Platform_Heroku</th>\n",
       "      <th>Platform_Firebase</th>\n",
       "    </tr>\n",
       "  </thead>\n",
       "  <tbody>\n",
       "    <tr>\n",
       "      <th>5814</th>\n",
       "      <td>5815</td>\n",
       "      <td>I am a developer by profession</td>\n",
       "      <td>25-34 years old</td>\n",
       "      <td>Employed, full-time</td>\n",
       "      <td>Remote</td>\n",
       "      <td>Apples</td>\n",
       "      <td>Hobby;School or academic work</td>\n",
       "      <td>Bachelor’s degree (B.A., B.S., B.Eng., etc.)</td>\n",
       "      <td>Books / Physical media;School (i.e., Universit...</td>\n",
       "      <td>None</td>\n",
       "      <td>...</td>\n",
       "      <td>1</td>\n",
       "      <td>0</td>\n",
       "      <td>1</td>\n",
       "      <td>0</td>\n",
       "      <td>0</td>\n",
       "      <td>0</td>\n",
       "      <td>0</td>\n",
       "      <td>1</td>\n",
       "      <td>0</td>\n",
       "      <td>0</td>\n",
       "    </tr>\n",
       "    <tr>\n",
       "      <th>6534</th>\n",
       "      <td>6535</td>\n",
       "      <td>I am a developer by profession</td>\n",
       "      <td>35-44 years old</td>\n",
       "      <td>Independent contractor, freelancer, or self-em...</td>\n",
       "      <td>In-person</td>\n",
       "      <td>Apples</td>\n",
       "      <td>Hobby;Professional development or self-paced l...</td>\n",
       "      <td>Bachelor’s degree (B.A., B.S., B.Eng., etc.)</td>\n",
       "      <td>Books / Physical media;Colleague;Other online ...</td>\n",
       "      <td>Technical documentation;Books;Written Tutorial...</td>\n",
       "      <td>...</td>\n",
       "      <td>0</td>\n",
       "      <td>1</td>\n",
       "      <td>0</td>\n",
       "      <td>1</td>\n",
       "      <td>1</td>\n",
       "      <td>0</td>\n",
       "      <td>0</td>\n",
       "      <td>0</td>\n",
       "      <td>0</td>\n",
       "      <td>1</td>\n",
       "    </tr>\n",
       "    <tr>\n",
       "      <th>30796</th>\n",
       "      <td>30797</td>\n",
       "      <td>I am a developer by profession</td>\n",
       "      <td>25-34 years old</td>\n",
       "      <td>Employed, full-time</td>\n",
       "      <td>Remote</td>\n",
       "      <td>Apples</td>\n",
       "      <td>Hobby;Contribute to open-source projects;Profe...</td>\n",
       "      <td>Associate degree (A.A., A.S., etc.)</td>\n",
       "      <td>Books / Physical media;Colleague;On the job tr...</td>\n",
       "      <td>Technical documentation;Blogs;Books;Stack Over...</td>\n",
       "      <td>...</td>\n",
       "      <td>1</td>\n",
       "      <td>0</td>\n",
       "      <td>1</td>\n",
       "      <td>0</td>\n",
       "      <td>0</td>\n",
       "      <td>0</td>\n",
       "      <td>0</td>\n",
       "      <td>0</td>\n",
       "      <td>0</td>\n",
       "      <td>0</td>\n",
       "    </tr>\n",
       "    <tr>\n",
       "      <th>38551</th>\n",
       "      <td>38552</td>\n",
       "      <td>I am a developer by profession</td>\n",
       "      <td>35-44 years old</td>\n",
       "      <td>Employed, full-time</td>\n",
       "      <td>Remote</td>\n",
       "      <td>Apples</td>\n",
       "      <td>Hobby;Contribute to open-source projects;Profe...</td>\n",
       "      <td>Some college/university study without earning ...</td>\n",
       "      <td>Books / Physical media;On the job training;Oth...</td>\n",
       "      <td>Technical documentation;Blogs;Books;Written Tu...</td>\n",
       "      <td>...</td>\n",
       "      <td>1</td>\n",
       "      <td>1</td>\n",
       "      <td>0</td>\n",
       "      <td>0</td>\n",
       "      <td>0</td>\n",
       "      <td>1</td>\n",
       "      <td>0</td>\n",
       "      <td>0</td>\n",
       "      <td>0</td>\n",
       "      <td>0</td>\n",
       "    </tr>\n",
       "    <tr>\n",
       "      <th>7698</th>\n",
       "      <td>7699</td>\n",
       "      <td>I am a developer by profession</td>\n",
       "      <td>25-34 years old</td>\n",
       "      <td>Independent contractor, freelancer, or self-em...</td>\n",
       "      <td>Remote</td>\n",
       "      <td>Apples</td>\n",
       "      <td>Hobby;Contribute to open-source projects;Boots...</td>\n",
       "      <td>Master’s degree (M.A., M.S., M.Eng., MBA, etc.)</td>\n",
       "      <td>Other online resources (e.g., videos, blogs, f...</td>\n",
       "      <td>Technical documentation;Blogs;Written Tutorial...</td>\n",
       "      <td>...</td>\n",
       "      <td>1</td>\n",
       "      <td>1</td>\n",
       "      <td>0</td>\n",
       "      <td>0</td>\n",
       "      <td>0</td>\n",
       "      <td>0</td>\n",
       "      <td>0</td>\n",
       "      <td>0</td>\n",
       "      <td>0</td>\n",
       "      <td>0</td>\n",
       "    </tr>\n",
       "  </tbody>\n",
       "</table>\n",
       "<p>5 rows × 129 columns</p>\n",
       "</div>"
      ],
      "text/plain": [
       "       ResponseId                      MainBranch              Age  \\\n",
       "5814         5815  I am a developer by profession  25-34 years old   \n",
       "6534         6535  I am a developer by profession  35-44 years old   \n",
       "30796       30797  I am a developer by profession  25-34 years old   \n",
       "38551       38552  I am a developer by profession  35-44 years old   \n",
       "7698         7699  I am a developer by profession  25-34 years old   \n",
       "\n",
       "                                              Employment RemoteWork   Check  \\\n",
       "5814                                 Employed, full-time     Remote  Apples   \n",
       "6534   Independent contractor, freelancer, or self-em...  In-person  Apples   \n",
       "30796                                Employed, full-time     Remote  Apples   \n",
       "38551                                Employed, full-time     Remote  Apples   \n",
       "7698   Independent contractor, freelancer, or self-em...     Remote  Apples   \n",
       "\n",
       "                                        CodingActivities  \\\n",
       "5814                       Hobby;School or academic work   \n",
       "6534   Hobby;Professional development or self-paced l...   \n",
       "30796  Hobby;Contribute to open-source projects;Profe...   \n",
       "38551  Hobby;Contribute to open-source projects;Profe...   \n",
       "7698   Hobby;Contribute to open-source projects;Boots...   \n",
       "\n",
       "                                                 EdLevel  \\\n",
       "5814        Bachelor’s degree (B.A., B.S., B.Eng., etc.)   \n",
       "6534        Bachelor’s degree (B.A., B.S., B.Eng., etc.)   \n",
       "30796                Associate degree (A.A., A.S., etc.)   \n",
       "38551  Some college/university study without earning ...   \n",
       "7698     Master’s degree (M.A., M.S., M.Eng., MBA, etc.)   \n",
       "\n",
       "                                               LearnCode  \\\n",
       "5814   Books / Physical media;School (i.e., Universit...   \n",
       "6534   Books / Physical media;Colleague;Other online ...   \n",
       "30796  Books / Physical media;Colleague;On the job tr...   \n",
       "38551  Books / Physical media;On the job training;Oth...   \n",
       "7698   Other online resources (e.g., videos, blogs, f...   \n",
       "\n",
       "                                         LearnCodeOnline  ...  \\\n",
       "5814                                                None  ...   \n",
       "6534   Technical documentation;Books;Written Tutorial...  ...   \n",
       "30796  Technical documentation;Blogs;Books;Stack Over...  ...   \n",
       "38551  Technical documentation;Blogs;Books;Written Tu...  ...   \n",
       "7698   Technical documentation;Blogs;Written Tutorial...  ...   \n",
       "\n",
       "      Database_PostgreSQL Database_SQLite Database_Redis Database_MySQL  \\\n",
       "5814                    1               0              1              0   \n",
       "6534                    0               1              0              1   \n",
       "30796                   1               0              1              0   \n",
       "38551                   1               1              0              0   \n",
       "7698                    1               1              0              0   \n",
       "\n",
       "      Database_MongoDB Platform_AmazonWebServicesAWS Platform_MicrosoftAzure  \\\n",
       "5814                 0                             0                       0   \n",
       "6534                 1                             0                       0   \n",
       "30796                0                             0                       0   \n",
       "38551                0                             1                       0   \n",
       "7698                 0                             0                       0   \n",
       "\n",
       "      Platform_GoogleCloud Platform_Heroku Platform_Firebase  \n",
       "5814                     1               0                 0  \n",
       "6534                     0               0                 1  \n",
       "30796                    0               0                 0  \n",
       "38551                    0               0                 0  \n",
       "7698                     0               0                 0  \n",
       "\n",
       "[5 rows x 129 columns]"
      ]
     },
     "execution_count": 33,
     "metadata": {},
     "output_type": "execute_result"
    }
   ],
   "source": [
    "# Get the top 5 most frequent platforms\n",
    "platforms = ['Amazon Web Services (AWS)', 'Microsoft Azure', 'Google Cloud', 'Heroku', 'Firebase']\n",
    "\n",
    "# Create dummy variables for the top 5 platforms\n",
    "def create_platform_columns(cleaned_df, platforms):\n",
    "    for platform in platforms:\n",
    "        column_name = f'Platform_{platform.replace(\"/\", \"\").replace(\" \", \"\").replace(\"(\", \"\").replace(\")\", \"\")}'\n",
    "        cleaned_df[column_name] = cleaned_df['PlatformWantToWorkWith'].apply(lambda x: 1 if pd.notna(x) and platform in x.split(';') else 0)\n",
    "    return cleaned_df\n",
    "\n",
    "cleaned_df = create_platform_columns(cleaned_df, platforms)\n",
    "\n",
    "cleaned_df.head()"
   ]
  },
  {
   "cell_type": "code",
   "execution_count": 35,
   "id": "e51e0cee",
   "metadata": {
    "id": "e51e0cee",
    "outputId": "52912dc3-d76b-42b4-ce54-97c604600fb6"
   },
   "outputs": [
    {
     "data": {
      "text/plain": [
       "29084"
      ]
     },
     "execution_count": 35,
     "metadata": {},
     "output_type": "execute_result"
    }
   ],
   "source": [
    "# Load cleaned data into MySQL\n",
    "table_name = 'so'\n",
    "cleaned_df.to_sql(name=table_name, con=engine, if_exists='replace', index=False)"
   ]
  },
  {
   "cell_type": "code",
   "execution_count": 37,
   "id": "9cf73780",
   "metadata": {
    "id": "9cf73780",
    "outputId": "b12ec1b8-c626-4724-e746-5c8b93f8b902"
   },
   "outputs": [
    {
     "name": "stdout",
     "output_type": "stream",
     "text": [
      "Row count after cleaning: 29084\n",
      "Column count after cleaning: 129\n",
      "NaN count in column PlatformWantToWorkWith: 9542\n",
      "NaN count in column WebframeWantToWorkWith: 7875\n",
      "NaN count in column ConvertedCompYearly: 12693\n",
      "NaN count in column JobSat: 1165\n"
     ]
    }
   ],
   "source": [
    "print('Row count after cleaning: ' + str(len(cleaned_df)))\n",
    "print('Column count after cleaning: ' + str(cleaned_df.shape[1]))\n",
    "\n",
    "nan_count_in_PlatformWantToWorkWith = cleaned_df['PlatformWantToWorkWith'].isna().sum()\n",
    "print(\"NaN count in column PlatformWantToWorkWith:\", nan_count_in_PlatformWantToWorkWith)\n",
    "\n",
    "nan_count_in_WebframeWantToWorkWith = cleaned_df['WebframeWantToWorkWith'].isna().sum()\n",
    "print(\"NaN count in column WebframeWantToWorkWith:\", nan_count_in_WebframeWantToWorkWith)\n",
    "\n",
    "nan_count_in_ConvertedCompYearly = cleaned_df['ConvertedCompYearly'].isna().sum()\n",
    "print(\"NaN count in column ConvertedCompYearly:\", nan_count_in_ConvertedCompYearly)\n",
    "\n",
    "nan_count_in_JobSat = cleaned_df['JobSat'].isna().sum()\n",
    "print(\"NaN count in column JobSat:\", nan_count_in_JobSat)"
   ]
  },
  {
   "cell_type": "code",
   "execution_count": null,
   "id": "4f3b60ce-19bd-4ee9-b6f9-4515996100c1",
   "metadata": {},
   "outputs": [],
   "source": []
  }
 ],
 "metadata": {
  "colab": {
   "provenance": []
  },
  "kernelspec": {
   "display_name": "Python 3 (ipykernel)",
   "language": "python",
   "name": "python3"
  },
  "language_info": {
   "codemirror_mode": {
    "name": "ipython",
    "version": 3
   },
   "file_extension": ".py",
   "mimetype": "text/x-python",
   "name": "python",
   "nbconvert_exporter": "python",
   "pygments_lexer": "ipython3",
   "version": "3.12.4"
  }
 },
 "nbformat": 4,
 "nbformat_minor": 5
}
